{
 "cells": [
  {
   "cell_type": "markdown",
   "metadata": {},
   "source": [
    "Create Database"
   ]
  },
  {
   "cell_type": "code",
   "execution_count": null,
   "metadata": {},
   "outputs": [],
   "source": [
    "def create_database(cursor, database):\n",
    "    try:\n",
    "        cursor.execute(\n",
    "        \"CREATE DATABASE {} DEFAULT CHARACTER SET 'utf8'\".format(database))\n",
    "    except mysql.connector.Error as err:\n",
    "        print(\"Failed creating database: {}\".format(err))\n",
    "        exit(1)\n",
    "\n",
    "try:\n",
    "    cursor.execute(\"USE {}\".format(db_name))\n",
    "except mysql"
   ]
  },
  {
   "cell_type": "markdown",
   "metadata": {},
   "source": [
    "## Api Call"
   ]
  },
  {
   "cell_type": "code",
   "execution_count": 2,
   "metadata": {},
   "outputs": [],
   "source": [
    "import time\n",
    "import json\n",
    "import requests\n",
    "SEARCH_LIMIT = 40\n",
    "def tmdb_call():\n",
    "    page = 1\n",
    "    results = []\n",
    "    while page < 25:\n",
    "        url = 'https://api.themoviedb.org/3/discover/movie?api_key=c34b5ba0a3c5f26f09b0f7bf5a989f39&page={}'.format(page)\n",
    "        response = requests.get(url)\n",
    "        data = response.json()\n",
    "        results.append(data)\n",
    "        time.sleep(6)\n",
    "        page += 1\n",
    "    return results\n",
    "movie_data = tmdb_call()"
   ]
  },
  {
   "cell_type": "markdown",
   "metadata": {},
   "source": [
    "## Flattening API"
   ]
  },
  {
   "cell_type": "code",
   "execution_count": 4,
   "metadata": {},
   "outputs": [],
   "source": [
    "movie_titles = []\n",
    "for i in movie_data:\n",
    "    movie_titles.append(i.get('results'))"
   ]
  },
  {
   "cell_type": "code",
   "execution_count": 5,
   "metadata": {},
   "outputs": [],
   "source": [
    "all_movies = [item for sublist in movie_titles for item in sublist]"
   ]
  },
  {
   "cell_type": "code",
   "execution_count": 8,
   "metadata": {},
   "outputs": [
    {
     "ename": "KeyError",
     "evalue": "'poster_path'",
     "output_type": "error",
     "traceback": [
      "\u001b[0;31m---------------------------------------------------------------------------\u001b[0m",
      "\u001b[0;31mKeyError\u001b[0m                                  Traceback (most recent call last)",
      "\u001b[0;32m<ipython-input-8-e24f15dbd1ef>\u001b[0m in \u001b[0;36m<module>\u001b[0;34m\u001b[0m\n\u001b[1;32m      3\u001b[0m \u001b[0;32mfor\u001b[0m \u001b[0mi\u001b[0m \u001b[0;32min\u001b[0m \u001b[0mlst\u001b[0m\u001b[0;34m:\u001b[0m\u001b[0;34m\u001b[0m\u001b[0;34m\u001b[0m\u001b[0m\n\u001b[1;32m      4\u001b[0m \u001b[0;34m\u001b[0m\u001b[0m\n\u001b[0;32m----> 5\u001b[0;31m     \u001b[0;32mdel\u001b[0m \u001b[0mall_movies\u001b[0m\u001b[0;34m[\u001b[0m\u001b[0mi\u001b[0m\u001b[0;34m]\u001b[0m\u001b[0;34m[\u001b[0m\u001b[0;34m'poster_path'\u001b[0m\u001b[0;34m]\u001b[0m\u001b[0;34m\u001b[0m\u001b[0;34m\u001b[0m\u001b[0m\n\u001b[0m\u001b[1;32m      6\u001b[0m     \u001b[0;32mdel\u001b[0m \u001b[0mall_movies\u001b[0m\u001b[0;34m[\u001b[0m\u001b[0mi\u001b[0m\u001b[0;34m]\u001b[0m\u001b[0;34m[\u001b[0m\u001b[0;34m'adult'\u001b[0m\u001b[0;34m]\u001b[0m\u001b[0;34m\u001b[0m\u001b[0;34m\u001b[0m\u001b[0m\n\u001b[1;32m      7\u001b[0m     \u001b[0;32mdel\u001b[0m \u001b[0mall_movies\u001b[0m\u001b[0;34m[\u001b[0m\u001b[0mi\u001b[0m\u001b[0;34m]\u001b[0m\u001b[0;34m[\u001b[0m\u001b[0;34m'backdrop_path'\u001b[0m\u001b[0;34m]\u001b[0m\u001b[0;34m\u001b[0m\u001b[0;34m\u001b[0m\u001b[0m\n",
      "\u001b[0;31mKeyError\u001b[0m: 'poster_path'"
     ]
    }
   ],
   "source": [
    "#editing the \n",
    "lst = list(range(0,len(all_movies)))\n",
    "for i in lst:\n",
    "\n",
    "    del all_movies[i]['poster_path']\n",
    "    del all_movies[i]['adult']\n",
    "    del all_movies[i]['backdrop_path']\n"
   ]
  },
  {
   "cell_type": "code",
   "execution_count": 12,
   "metadata": {},
   "outputs": [],
   "source": [
    "import re\n",
    "import os\n",
    "import csv\n",
    "import time\n",
    "import random\n",
    "import requests\n",
    "import numpy as np\n",
    "import pandas as pd\n",
    "from os import system\n",
    "from math import floor\n",
    "from copy import deepcopy\n",
    "from bs4 import BeautifulSoup\n",
    "from selenium import webdriver\n",
    "from selenium.webdriver.common.by import By\n",
    "from selenium.webdriver.common.keys import Keys\n",
    "from selenium.common.exceptions import TimeoutException\n",
    "from selenium.webdriver.support.ui import WebDriverWait\n",
    "from selenium.webdriver.support import expected_conditions as EC\n"
   ]
  },
  {
   "cell_type": "code",
   "execution_count": 13,
   "metadata": {},
   "outputs": [],
   "source": [
    "list_of_titles = []\n",
    "for i in all_movies:\n",
    "    list_of_titles.append(i['title'])\n",
    "\n",
    "# list_of_new_names = []\n",
    "# for i in list_of_titles:\n",
    "#     if i not in list_of_names:\n",
    "#         list_of_new_names.append(i)\n",
    "    "
   ]
  },
  {
   "cell_type": "code",
   "execution_count": 14,
   "metadata": {},
   "outputs": [],
   "source": [
    "browser = webdriver.Chrome() #browser should be named driver in the future, common coding etiquette\n",
    "browser.get('https://www.the-numbers.com/movie/Scarface#tab=summary')"
   ]
  },
  {
   "cell_type": "code",
   "execution_count": 16,
   "metadata": {
    "collapsed": true
   },
   "outputs": [
    {
     "name": "stdout",
     "output_type": "stream",
     "text": [
      "Production budget not found\n",
      "None\n",
      "Production budget not found\n",
      "Production budget not found\n",
      "Production budget not found\n",
      "$55,000,000\n",
      "Domestic Box Office not found\n",
      "$247,229,004\n",
      "International Box Office not found\n",
      "$490,300,000\n",
      "$55,000,000\n",
      "Production budget not found\n",
      "Production budget not found\n",
      "$79,300,000\n",
      "$421,785,283\n",
      "$564,429,585\n",
      "$79,300,000\n",
      "Production budget not found\n",
      "Production budget not found\n",
      "Domestic Box Office not found\n",
      "$0\n",
      "International Box Office not found\n",
      "International Box Office not found\n",
      "International Box Office not found\n",
      "International Box Office not found\n",
      "International Box Office not found\n",
      "International Box Office not found\n",
      "None\n",
      "Production budget not found\n",
      "Production budget not found\n",
      "Production budget not found\n",
      "Production budget not found\n",
      "Production budget not found\n",
      "Production budget not found\n",
      "Production budget not found\n",
      "Production budget not found\n",
      "$36,000,000\n",
      "$117,000,000\n",
      "None\n",
      "Production budget not found\n",
      "Production budget not found\n",
      "Production budget not found\n",
      "$160,000,000\n",
      "Domestic Box Office not found\n",
      "$390,470,129\n",
      "International Box Office not found\n",
      "$739,684,413\n",
      "$160,000,000\n",
      "Production budget not found\n",
      "Production budget not found\n",
      "Production budget not found\n",
      "Production budget not found\n",
      "Production budget not found\n",
      "Production budget not found\n",
      "Production budget not found\n",
      "Production budget not found\n",
      "Production budget not found\n",
      "$433,722,484\n",
      "$625,500,000\n",
      "None\n",
      "Production budget not found\n",
      "Production budget not found\n",
      "Production budget not found\n",
      "Production budget not found\n",
      "Production budget not found\n",
      "Production budget not found\n",
      "Production budget not found\n",
      "Production budget not found\n",
      "Production budget not found\n",
      "Production budget not found\n",
      "Domestic Box Office not found\n",
      "$36,516,543\n",
      "International Box Office not found\n",
      "$38,979,469\n",
      "None\n",
      "Production budget not found\n",
      "Production budget not found\n",
      "Production budget not found\n",
      "Production budget not found\n",
      "Production budget not found\n",
      "Production budget not found\n",
      "Production budget not found\n",
      "Production budget not found\n",
      "Production budget not found\n",
      "Production budget not found\n",
      "$173,694,635\n",
      "$585,651,548\n",
      "None\n",
      "Production budget not found\n",
      "Production budget not found\n",
      "$70,000,000\n",
      "$209,659,518\n",
      "$238,294,700\n",
      "$70,000,000\n",
      "Production budget not found\n",
      "Production budget not found\n",
      "Domestic Box Office not found\n",
      "Domestic Box Office not found\n",
      "International Box Office not found\n",
      "International Box Office not found\n",
      "None\n",
      "Production budget not found\n",
      "Production budget not found\n",
      "Production budget not found\n",
      "$182,000,000\n",
      "Domestic Box Office not found\n",
      "$355,562,840\n",
      "International Box Office not found\n",
      "$682,500,000\n",
      "$182,000,000\n",
      "Production budget not found\n",
      "Production budget not found\n",
      "$70,000,000\n",
      "$244,082,982\n",
      "$217,568,264\n",
      "$70,000,000\n",
      "Production budget not found\n",
      "Production budget not found\n",
      "Production budget not found\n",
      "$42,000,000\n",
      "Domestic Box Office not found\n",
      "$26,725,000\n",
      "International Box Office not found\n",
      "$5,300,000\n",
      "$42,000,000\n",
      "Production budget not found\n",
      "Production budget not found\n",
      "$180,000,000\n",
      "$241,407,328\n",
      "$517,129,407\n",
      "$180,000,000\n",
      "Production budget not found\n",
      "Production budget not found\n",
      "$40,000,000\n",
      "$171,015,687\n",
      "$151,726,492\n",
      "$40,000,000\n",
      "Production budget not found\n",
      "Production budget not found\n",
      "$90,000,000\n",
      "$139,713,534\n",
      "$226,246,609\n",
      "$90,000,000\n",
      "Production budget not found\n",
      "Production budget not found\n",
      "Production budget not found\n",
      "Domestic Box Office not found\n",
      "$0\n",
      "International Box Office not found\n",
      "Est. Domestic DVD Sales\n",
      "None\n",
      "Production budget not found\n",
      "Production budget not found\n",
      "$90,000,000\n",
      "$190,173,195\n",
      "$185,069,944\n",
      "$90,000,000\n",
      "Production budget not found\n",
      "Production budget not found\n",
      "Production budget not found\n",
      "$200,000,000\n",
      "Domestic Box Office not found\n",
      "$65,845,974\n",
      "International Box Office not found\n",
      "$180,510,921\n",
      "$200,000,000\n",
      "Production budget not found\n",
      "Production budget not found\n",
      "Production budget not found\n",
      "$165,000,000\n",
      "Domestic Box Office not found\n",
      "$188,017,894\n",
      "International Box Office not found\n",
      "$477,252,582\n"
     ]
    },
    {
     "data": {
      "text/plain": [
       "[('Joker', 'Joker (2019)', '$55,000,000', '$247,229,004', '$490,300,000'),\n",
       " ('The Lion King',\n",
       "  'The Lion King (1994)',\n",
       "  '$79,300,000',\n",
       "  '$421,785,283',\n",
       "  '$564,429,585'),\n",
       " ('El Camino: A Breaking Bad Movie',\n",
       "  'El Camino: A Breaking Bad Movie (2019)',\n",
       "  None,\n",
       "  '$0',\n",
       "  None),\n",
       " ('Maleficent: Mistress of Evil',\n",
       "  'Maleficent: Mistress of Evil (2019)',\n",
       "  None,\n",
       "  '$36,000,000',\n",
       "  '$117,000,000'),\n",
       " ('Spider-Man: Far from Home',\n",
       "  'Spider-Man: Far From Home (2019)',\n",
       "  '$160,000,000',\n",
       "  '$390,470,129',\n",
       "  '$739,684,413'),\n",
       " ('Toy Story 4', 'Toy Story 4 (2019)', None, '$433,722,484', '$625,500,000'),\n",
       " ('Gemini Man', 'Gemini Man (2019)', None, '$36,516,543', '$38,979,469'),\n",
       " ('Fast & Furious Presents: Hobbs & Shaw',\n",
       "  'Fast & Furious Presents: Hobbs & Shaw (2019)',\n",
       "  None,\n",
       "  '$173,694,635',\n",
       "  '$585,651,548'),\n",
       " ('It Chapter Two',\n",
       "  'It: Chapter Two (2019)',\n",
       "  '$70,000,000',\n",
       "  '$209,659,518',\n",
       "  '$238,294,700'),\n",
       " ('Ip Man 4: The Finale', 'Search', None, None, None),\n",
       " ('Aladdin', 'Aladdin (2019)', '$182,000,000', '$355,562,840', '$682,500,000'),\n",
       " ('Cars', 'Cars (2006)', '$70,000,000', '$244,082,982', '$217,568,264'),\n",
       " ('Zombieland: Double Tap',\n",
       "  'Zombieland: Double Tap (2019)',\n",
       "  '$42,000,000',\n",
       "  '$26,725,000',\n",
       "  '$5,300,000'),\n",
       " ('Maleficent',\n",
       "  'Maleficent (2014)',\n",
       "  '$180,000,000',\n",
       "  '$241,407,328',\n",
       "  '$517,129,407'),\n",
       " ('John Wick: Chapter 3 - Parabellum',\n",
       "  'John Wick: Chapter 3 — Parabellum (2019)',\n",
       "  '$40,000,000',\n",
       "  '$171,015,687',\n",
       "  '$151,726,492'),\n",
       " ('Once Upon a Time... in Hollywood',\n",
       "  'Once Upon a Time…in Hollywood (2019)',\n",
       "  '$90,000,000',\n",
       "  '$139,713,534',\n",
       "  '$226,246,609'),\n",
       " ('Descendants 3',\n",
       "  'Descendants 3 (2019)',\n",
       "  None,\n",
       "  '$0',\n",
       "  'Est. Domestic DVD Sales'),\n",
       " ('Spider-Man: Into the Spider-Verse',\n",
       "  'Spider-Man: Into The Spider-Verse 3D (2018)',\n",
       "  '$90,000,000',\n",
       "  '$190,173,195',\n",
       "  '$185,069,944'),\n",
       " ('Dark Phoenix',\n",
       "  'Dark Phoenix (2019)',\n",
       "  '$200,000,000',\n",
       "  '$65,845,974',\n",
       "  '$180,510,921'),\n",
       " ('Interstellar',\n",
       "  'Interstellar (2014)',\n",
       "  '$165,000,000',\n",
       "  '$188,017,894',\n",
       "  '$477,252,582')]"
      ]
     },
     "execution_count": 16,
     "metadata": {},
     "output_type": "execute_result"
    }
   ],
   "source": [
    "financials2 = []\n",
    "\n",
    "\n",
    "for name in list_of_titles:\n",
    "    searchBar = browser.find_element_by_xpath('//*[@id=\"sidebar\"]/center/form/input')\n",
    "    searchBar.send_keys(name)\n",
    "    searchBar.send_keys(Keys.ENTER)\n",
    "    url = browser.current_url\n",
    "\n",
    "\n",
    "    if \"custom-search\" in url:\n",
    "        try:\n",
    "            if browser.find_element_by_xpath('//center/table/tbody/tr[2]/td[3]/b/a').get_attribute('href'):\n",
    "                link = browser.find_element_by_xpath('//center/table/tbody/tr[2]/td[3]/b/a').get_attribute('href')         \n",
    "                browser.get(link)\n",
    "        except:\n",
    "            pass\n",
    "    \n",
    "    scraped_data = browser.page_source\n",
    "    soup = BeautifulSoup(scraped_data)\n",
    "    tables = soup.find_all('table')\n",
    "\n",
    "    for i in range(len(tables)):\n",
    "            try:\n",
    "                if soup.find(id = 'main').find('h1'):\n",
    "                    movie_name = soup.find(id = 'main').find('h1').text\n",
    "                    print(production_budget)\n",
    "                    break\n",
    "            except:\n",
    "                print('Production budget not found')\n",
    "                production_budget = None\n",
    "                pass\n",
    "    production_budget        \n",
    "\n",
    "    for i in range(len(tables)):\n",
    "            try:\n",
    "                if soup.find_all('table')[i].find('tbody').find('td').find('b').text[:10] == 'Production':\n",
    "                    production_budget = soup.find_all('table')[i].find('tbody').find_all('td')[1].text\n",
    "                    print(production_budget)\n",
    "                    break\n",
    "            except:\n",
    "                print('Production budget not found')\n",
    "                production_budget = None\n",
    "                pass\n",
    "    production_budget        \n",
    "\n",
    "    for i in range(len(tables)):\n",
    "            try:\n",
    "                if soup.find_all(id='movie_finances')[i].find('tbody').find_all('td')[1].text[:12] == 'Domestic Box':\n",
    "                    domestic_box = soup.find_all(id='movie_finances')[i].find('tbody').find_all('td')[2].text\n",
    "                    print(domestic_box)\n",
    "                    break\n",
    "\n",
    "            except:\n",
    "                print('Domestic Box Office not found')\n",
    "                domestic_box = None\n",
    "                pass        \n",
    "    domestic_box\n",
    "\n",
    "    for i in range(len(tables)):\n",
    "            try:\n",
    "                if soup.find_all(id='movie_finances')[i].find('tbody').find_all('td')[1].text[:12] == 'Domestic Box':\n",
    "                    international_box = soup.find_all(id='movie_finances')[i].find('tbody').find_all('td')[5].text\n",
    "                    print(international_box)\n",
    "                    break\n",
    "\n",
    "            except:\n",
    "                print('International Box Office not found')\n",
    "                international_box = None\n",
    "                pass \n",
    "            \n",
    "    international_box\n",
    "    financials2.append((name, movie_name, production_budget, domestic_box, international_box),)  \n",
    "\n",
    "    \n",
    "    with open(\"/Users/johnrick/Desktop/output2.csv\", \"w\") as f:\n",
    "        writer = csv.writer(f)\n",
    "        for name in list_of_titles:\n",
    "            writer.writerow(name)\n",
    "    \n",
    "# Using a randomized time:   \n",
    "    sequence = [x/10 for x in range(8, 12)]\n",
    "    time.sleep(random.choice(sequence))\n",
    "    \n",
    "    \n",
    "    \n",
    "    \n",
    "     \n",
    "financials2"
   ]
  },
  {
   "cell_type": "code",
   "execution_count": 17,
   "metadata": {},
   "outputs": [],
   "source": [
    "df = pd.DataFrame(financials2)\n",
    "# df.to_csv(\"/Users/johnrick/Desktop/output2.csv\", index=False)\n"
   ]
  },
  {
   "cell_type": "code",
   "execution_count": 18,
   "metadata": {},
   "outputs": [
    {
     "data": {
      "text/html": [
       "<div>\n",
       "<style scoped>\n",
       "    .dataframe tbody tr th:only-of-type {\n",
       "        vertical-align: middle;\n",
       "    }\n",
       "\n",
       "    .dataframe tbody tr th {\n",
       "        vertical-align: top;\n",
       "    }\n",
       "\n",
       "    .dataframe thead th {\n",
       "        text-align: right;\n",
       "    }\n",
       "</style>\n",
       "<table border=\"1\" class=\"dataframe\">\n",
       "  <thead>\n",
       "    <tr style=\"text-align: right;\">\n",
       "      <th></th>\n",
       "      <th>0</th>\n",
       "      <th>1</th>\n",
       "      <th>2</th>\n",
       "      <th>3</th>\n",
       "      <th>4</th>\n",
       "    </tr>\n",
       "  </thead>\n",
       "  <tbody>\n",
       "    <tr>\n",
       "      <th>0</th>\n",
       "      <td>Joker</td>\n",
       "      <td>Joker (2019)</td>\n",
       "      <td>$55,000,000</td>\n",
       "      <td>$247,229,004</td>\n",
       "      <td>$490,300,000</td>\n",
       "    </tr>\n",
       "    <tr>\n",
       "      <th>1</th>\n",
       "      <td>The Lion King</td>\n",
       "      <td>The Lion King (1994)</td>\n",
       "      <td>$79,300,000</td>\n",
       "      <td>$421,785,283</td>\n",
       "      <td>$564,429,585</td>\n",
       "    </tr>\n",
       "    <tr>\n",
       "      <th>2</th>\n",
       "      <td>El Camino: A Breaking Bad Movie</td>\n",
       "      <td>El Camino: A Breaking Bad Movie (2019)</td>\n",
       "      <td>None</td>\n",
       "      <td>$0</td>\n",
       "      <td>None</td>\n",
       "    </tr>\n",
       "    <tr>\n",
       "      <th>3</th>\n",
       "      <td>Maleficent: Mistress of Evil</td>\n",
       "      <td>Maleficent: Mistress of Evil (2019)</td>\n",
       "      <td>None</td>\n",
       "      <td>$36,000,000</td>\n",
       "      <td>$117,000,000</td>\n",
       "    </tr>\n",
       "    <tr>\n",
       "      <th>4</th>\n",
       "      <td>Spider-Man: Far from Home</td>\n",
       "      <td>Spider-Man: Far From Home (2019)</td>\n",
       "      <td>$160,000,000</td>\n",
       "      <td>$390,470,129</td>\n",
       "      <td>$739,684,413</td>\n",
       "    </tr>\n",
       "  </tbody>\n",
       "</table>\n",
       "</div>"
      ],
      "text/plain": [
       "                                 0                                       1  \\\n",
       "0                            Joker                            Joker (2019)   \n",
       "1                    The Lion King                    The Lion King (1994)   \n",
       "2  El Camino: A Breaking Bad Movie  El Camino: A Breaking Bad Movie (2019)   \n",
       "3     Maleficent: Mistress of Evil     Maleficent: Mistress of Evil (2019)   \n",
       "4        Spider-Man: Far from Home        Spider-Man: Far From Home (2019)   \n",
       "\n",
       "              2             3             4  \n",
       "0   $55,000,000  $247,229,004  $490,300,000  \n",
       "1   $79,300,000  $421,785,283  $564,429,585  \n",
       "2          None            $0          None  \n",
       "3          None   $36,000,000  $117,000,000  \n",
       "4  $160,000,000  $390,470,129  $739,684,413  "
      ]
     },
     "execution_count": 18,
     "metadata": {},
     "output_type": "execute_result"
    }
   ],
   "source": [
    "df.head()"
   ]
  },
  {
   "cell_type": "code",
   "execution_count": 28,
   "metadata": {},
   "outputs": [],
   "source": [
    "df.columns =df.columns.astype(str)"
   ]
  },
  {
   "cell_type": "code",
   "execution_count": null,
   "metadata": {},
   "outputs": [],
   "source": [
    "# Sending to DB: Financials From Selennium Scrape"
   ]
  },
  {
   "cell_type": "code",
   "execution_count": 29,
   "metadata": {
    "collapsed": true
   },
   "outputs": [
    {
     "data": {
      "text/plain": [
       "[('Joker', 'Joker (2019)', '$55,000,000', '$247,229,004', '$490,300,000'),\n",
       " ('The Lion King',\n",
       "  'The Lion King (1994)',\n",
       "  '$79,300,000',\n",
       "  '$421,785,283',\n",
       "  '$564,429,585'),\n",
       " ('El Camino: A Breaking Bad Movie',\n",
       "  'El Camino: A Breaking Bad Movie (2019)',\n",
       "  None,\n",
       "  '$0',\n",
       "  None),\n",
       " ('Maleficent: Mistress of Evil',\n",
       "  'Maleficent: Mistress of Evil (2019)',\n",
       "  None,\n",
       "  '$36,000,000',\n",
       "  '$117,000,000'),\n",
       " ('Spider-Man: Far from Home',\n",
       "  'Spider-Man: Far From Home (2019)',\n",
       "  '$160,000,000',\n",
       "  '$390,470,129',\n",
       "  '$739,684,413'),\n",
       " ('Toy Story 4', 'Toy Story 4 (2019)', None, '$433,722,484', '$625,500,000'),\n",
       " ('Gemini Man', 'Gemini Man (2019)', None, '$36,516,543', '$38,979,469'),\n",
       " ('Fast & Furious Presents: Hobbs & Shaw',\n",
       "  'Fast & Furious Presents: Hobbs & Shaw (2019)',\n",
       "  None,\n",
       "  '$173,694,635',\n",
       "  '$585,651,548'),\n",
       " ('It Chapter Two',\n",
       "  'It: Chapter Two (2019)',\n",
       "  '$70,000,000',\n",
       "  '$209,659,518',\n",
       "  '$238,294,700'),\n",
       " ('Ip Man 4: The Finale', 'Search', None, None, None),\n",
       " ('Aladdin', 'Aladdin (2019)', '$182,000,000', '$355,562,840', '$682,500,000'),\n",
       " ('Cars', 'Cars (2006)', '$70,000,000', '$244,082,982', '$217,568,264'),\n",
       " ('Zombieland: Double Tap',\n",
       "  'Zombieland: Double Tap (2019)',\n",
       "  '$42,000,000',\n",
       "  '$26,725,000',\n",
       "  '$5,300,000'),\n",
       " ('Maleficent',\n",
       "  'Maleficent (2014)',\n",
       "  '$180,000,000',\n",
       "  '$241,407,328',\n",
       "  '$517,129,407'),\n",
       " ('John Wick: Chapter 3 - Parabellum',\n",
       "  'John Wick: Chapter 3 — Parabellum (2019)',\n",
       "  '$40,000,000',\n",
       "  '$171,015,687',\n",
       "  '$151,726,492'),\n",
       " ('Once Upon a Time... in Hollywood',\n",
       "  'Once Upon a Time…in Hollywood (2019)',\n",
       "  '$90,000,000',\n",
       "  '$139,713,534',\n",
       "  '$226,246,609'),\n",
       " ('Descendants 3',\n",
       "  'Descendants 3 (2019)',\n",
       "  None,\n",
       "  '$0',\n",
       "  'Est. Domestic DVD Sales'),\n",
       " ('Spider-Man: Into the Spider-Verse',\n",
       "  'Spider-Man: Into The Spider-Verse 3D (2018)',\n",
       "  '$90,000,000',\n",
       "  '$190,173,195',\n",
       "  '$185,069,944'),\n",
       " ('Dark Phoenix',\n",
       "  'Dark Phoenix (2019)',\n",
       "  '$200,000,000',\n",
       "  '$65,845,974',\n",
       "  '$180,510,921'),\n",
       " ('Interstellar',\n",
       "  'Interstellar (2014)',\n",
       "  '$165,000,000',\n",
       "  '$188,017,894',\n",
       "  '$477,252,582')]"
      ]
     },
     "execution_count": 29,
     "metadata": {},
     "output_type": "execute_result"
    }
   ],
   "source": [
    "subset = df[['0', '1','2', '3', '4']]\n",
    "tuples = [tuple(x) for x in subset.values]\n",
    "tuples"
   ]
  },
  {
   "cell_type": "code",
   "execution_count": null,
   "metadata": {},
   "outputs": [],
   "source": [
    "for i in tuples:\n",
    "    try:\n",
    "        stmt = \"INSERT INTO finances (search_name, actual_name, budget, domestic_box_office, international_box_office) VALUES(%s,%s,%s,%s,%s)\"\n",
    "        cursor.execute(stmt, (i))\n",
    "        cnx.commit()\n",
    "    except mysql.connector.Error as err:\n",
    "        print(err, i)"
   ]
  },
  {
   "cell_type": "code",
   "execution_count": null,
   "metadata": {},
   "outputs": [],
   "source": [
    "# Sending to DB: API"
   ]
  },
  {
   "cell_type": "code",
   "execution_count": null,
   "metadata": {},
   "outputs": [],
   "source": [
    "listoftuples = []\n",
    "for i in all_movies:\n",
    "    listoftuples.append((i['id'],i['title'],i['vote_average'],(i['vote_count']),i['popularity'],i['original_language'],str(i['genre_ids']),i['overview']))\n",
    "    "
   ]
  },
  {
   "cell_type": "code",
   "execution_count": null,
   "metadata": {},
   "outputs": [],
   "source": [
    "for i in listoftuples:\n",
    "    try:\n",
    "        stmt = \"INSERT INTO movies1 (id, title, vote_average, vote_count, popularity, original_lang, genre_ids, overview) VALUES (%s, %s, %s, %s, %s, %s, %s, %s)\"\n",
    "        cursor.execute(stmt, (i))\n",
    "        cnx.commit()\n",
    "    except mysql.connector.Error as err:\n",
    "        print(err, i)\n",
    "    \n",
    "    "
   ]
  },
  {
   "cell_type": "code",
   "execution_count": 31,
   "metadata": {
    "collapsed": true
   },
   "outputs": [
    {
     "name": "stdout",
     "output_type": "stream",
     "text": [
      "Collecting wordcloud\n",
      "\u001b[?25l  Downloading https://files.pythonhosted.org/packages/c7/07/e43a7094a58e602e85a09494d9b99e7b5d71ca4789852287386e21e74c33/wordcloud-1.5.0-cp37-cp37m-macosx_10_6_x86_64.whl (157kB)\n",
      "\u001b[K     |████████████████████████████████| 163kB 3.8MB/s eta 0:00:01\n",
      "\u001b[?25hRequirement already satisfied: numpy>=1.6.1 in /anaconda3/lib/python3.7/site-packages (from wordcloud) (1.16.4)\n",
      "Requirement already satisfied: pillow in /anaconda3/lib/python3.7/site-packages (from wordcloud) (6.1.0)\n",
      "Installing collected packages: wordcloud\n",
      "Successfully installed wordcloud-1.5.0\n",
      "Note: you may need to restart the kernel to use updated packages.\n"
     ]
    }
   ],
   "source": [
    "pip install wordcloud"
   ]
  },
  {
   "cell_type": "code",
   "execution_count": 42,
   "metadata": {
    "collapsed": true
   },
   "outputs": [
    {
     "data": {
      "text/html": [
       "<div>\n",
       "<style scoped>\n",
       "    .dataframe tbody tr th:only-of-type {\n",
       "        vertical-align: middle;\n",
       "    }\n",
       "\n",
       "    .dataframe tbody tr th {\n",
       "        vertical-align: top;\n",
       "    }\n",
       "\n",
       "    .dataframe thead th {\n",
       "        text-align: right;\n",
       "    }\n",
       "</style>\n",
       "<table border=\"1\" class=\"dataframe\">\n",
       "  <thead>\n",
       "    <tr style=\"text-align: right;\">\n",
       "      <th></th>\n",
       "      <th>0</th>\n",
       "      <th>1</th>\n",
       "      <th>2</th>\n",
       "      <th>3</th>\n",
       "      <th>4</th>\n",
       "    </tr>\n",
       "  </thead>\n",
       "  <tbody>\n",
       "    <tr>\n",
       "      <th>0</th>\n",
       "      <td>Joker</td>\n",
       "      <td>Joker (2019)</td>\n",
       "      <td>$55,000,000</td>\n",
       "      <td>$247,229,004</td>\n",
       "      <td>$490,300,000</td>\n",
       "    </tr>\n",
       "    <tr>\n",
       "      <th>1</th>\n",
       "      <td>The Lion King</td>\n",
       "      <td>The Lion King (1994)</td>\n",
       "      <td>$79,300,000</td>\n",
       "      <td>$421,785,283</td>\n",
       "      <td>$564,429,585</td>\n",
       "    </tr>\n",
       "    <tr>\n",
       "      <th>2</th>\n",
       "      <td>El Camino: A Breaking Bad Movie</td>\n",
       "      <td>El Camino: A Breaking Bad Movie (2019)</td>\n",
       "      <td>None</td>\n",
       "      <td>$0</td>\n",
       "      <td>None</td>\n",
       "    </tr>\n",
       "    <tr>\n",
       "      <th>3</th>\n",
       "      <td>Maleficent: Mistress of Evil</td>\n",
       "      <td>Maleficent: Mistress of Evil (2019)</td>\n",
       "      <td>None</td>\n",
       "      <td>$36,000,000</td>\n",
       "      <td>$117,000,000</td>\n",
       "    </tr>\n",
       "    <tr>\n",
       "      <th>4</th>\n",
       "      <td>Spider-Man: Far from Home</td>\n",
       "      <td>Spider-Man: Far From Home (2019)</td>\n",
       "      <td>$160,000,000</td>\n",
       "      <td>$390,470,129</td>\n",
       "      <td>$739,684,413</td>\n",
       "    </tr>\n",
       "    <tr>\n",
       "      <th>5</th>\n",
       "      <td>Toy Story 4</td>\n",
       "      <td>Toy Story 4 (2019)</td>\n",
       "      <td>None</td>\n",
       "      <td>$433,722,484</td>\n",
       "      <td>$625,500,000</td>\n",
       "    </tr>\n",
       "    <tr>\n",
       "      <th>6</th>\n",
       "      <td>Gemini Man</td>\n",
       "      <td>Gemini Man (2019)</td>\n",
       "      <td>None</td>\n",
       "      <td>$36,516,543</td>\n",
       "      <td>$38,979,469</td>\n",
       "    </tr>\n",
       "    <tr>\n",
       "      <th>7</th>\n",
       "      <td>Fast &amp; Furious Presents: Hobbs &amp; Shaw</td>\n",
       "      <td>Fast &amp; Furious Presents: Hobbs &amp; Shaw (2019)</td>\n",
       "      <td>None</td>\n",
       "      <td>$173,694,635</td>\n",
       "      <td>$585,651,548</td>\n",
       "    </tr>\n",
       "    <tr>\n",
       "      <th>8</th>\n",
       "      <td>It Chapter Two</td>\n",
       "      <td>It: Chapter Two (2019)</td>\n",
       "      <td>$70,000,000</td>\n",
       "      <td>$209,659,518</td>\n",
       "      <td>$238,294,700</td>\n",
       "    </tr>\n",
       "    <tr>\n",
       "      <th>9</th>\n",
       "      <td>Ip Man 4: The Finale</td>\n",
       "      <td>Search</td>\n",
       "      <td>None</td>\n",
       "      <td>None</td>\n",
       "      <td>None</td>\n",
       "    </tr>\n",
       "    <tr>\n",
       "      <th>10</th>\n",
       "      <td>Aladdin</td>\n",
       "      <td>Aladdin (2019)</td>\n",
       "      <td>$182,000,000</td>\n",
       "      <td>$355,562,840</td>\n",
       "      <td>$682,500,000</td>\n",
       "    </tr>\n",
       "    <tr>\n",
       "      <th>11</th>\n",
       "      <td>Cars</td>\n",
       "      <td>Cars (2006)</td>\n",
       "      <td>$70,000,000</td>\n",
       "      <td>$244,082,982</td>\n",
       "      <td>$217,568,264</td>\n",
       "    </tr>\n",
       "    <tr>\n",
       "      <th>12</th>\n",
       "      <td>Zombieland: Double Tap</td>\n",
       "      <td>Zombieland: Double Tap (2019)</td>\n",
       "      <td>$42,000,000</td>\n",
       "      <td>$26,725,000</td>\n",
       "      <td>$5,300,000</td>\n",
       "    </tr>\n",
       "    <tr>\n",
       "      <th>13</th>\n",
       "      <td>Maleficent</td>\n",
       "      <td>Maleficent (2014)</td>\n",
       "      <td>$180,000,000</td>\n",
       "      <td>$241,407,328</td>\n",
       "      <td>$517,129,407</td>\n",
       "    </tr>\n",
       "    <tr>\n",
       "      <th>14</th>\n",
       "      <td>John Wick: Chapter 3 - Parabellum</td>\n",
       "      <td>John Wick: Chapter 3 — Parabellum (2019)</td>\n",
       "      <td>$40,000,000</td>\n",
       "      <td>$171,015,687</td>\n",
       "      <td>$151,726,492</td>\n",
       "    </tr>\n",
       "    <tr>\n",
       "      <th>15</th>\n",
       "      <td>Once Upon a Time... in Hollywood</td>\n",
       "      <td>Once Upon a Time…in Hollywood (2019)</td>\n",
       "      <td>$90,000,000</td>\n",
       "      <td>$139,713,534</td>\n",
       "      <td>$226,246,609</td>\n",
       "    </tr>\n",
       "    <tr>\n",
       "      <th>16</th>\n",
       "      <td>Descendants 3</td>\n",
       "      <td>Descendants 3 (2019)</td>\n",
       "      <td>None</td>\n",
       "      <td>$0</td>\n",
       "      <td>Est. Domestic DVD Sales</td>\n",
       "    </tr>\n",
       "    <tr>\n",
       "      <th>17</th>\n",
       "      <td>Spider-Man: Into the Spider-Verse</td>\n",
       "      <td>Spider-Man: Into The Spider-Verse 3D (2018)</td>\n",
       "      <td>$90,000,000</td>\n",
       "      <td>$190,173,195</td>\n",
       "      <td>$185,069,944</td>\n",
       "    </tr>\n",
       "    <tr>\n",
       "      <th>18</th>\n",
       "      <td>Dark Phoenix</td>\n",
       "      <td>Dark Phoenix (2019)</td>\n",
       "      <td>$200,000,000</td>\n",
       "      <td>$65,845,974</td>\n",
       "      <td>$180,510,921</td>\n",
       "    </tr>\n",
       "    <tr>\n",
       "      <th>19</th>\n",
       "      <td>Interstellar</td>\n",
       "      <td>Interstellar (2014)</td>\n",
       "      <td>$165,000,000</td>\n",
       "      <td>$188,017,894</td>\n",
       "      <td>$477,252,582</td>\n",
       "    </tr>\n",
       "  </tbody>\n",
       "</table>\n",
       "</div>"
      ],
      "text/plain": [
       "                                        0  \\\n",
       "0                                   Joker   \n",
       "1                           The Lion King   \n",
       "2         El Camino: A Breaking Bad Movie   \n",
       "3            Maleficent: Mistress of Evil   \n",
       "4               Spider-Man: Far from Home   \n",
       "5                             Toy Story 4   \n",
       "6                              Gemini Man   \n",
       "7   Fast & Furious Presents: Hobbs & Shaw   \n",
       "8                          It Chapter Two   \n",
       "9                    Ip Man 4: The Finale   \n",
       "10                                Aladdin   \n",
       "11                                   Cars   \n",
       "12                 Zombieland: Double Tap   \n",
       "13                             Maleficent   \n",
       "14      John Wick: Chapter 3 - Parabellum   \n",
       "15       Once Upon a Time... in Hollywood   \n",
       "16                          Descendants 3   \n",
       "17      Spider-Man: Into the Spider-Verse   \n",
       "18                           Dark Phoenix   \n",
       "19                           Interstellar   \n",
       "\n",
       "                                               1             2             3  \\\n",
       "0                                   Joker (2019)   $55,000,000  $247,229,004   \n",
       "1                           The Lion King (1994)   $79,300,000  $421,785,283   \n",
       "2         El Camino: A Breaking Bad Movie (2019)          None            $0   \n",
       "3            Maleficent: Mistress of Evil (2019)          None   $36,000,000   \n",
       "4               Spider-Man: Far From Home (2019)  $160,000,000  $390,470,129   \n",
       "5                             Toy Story 4 (2019)          None  $433,722,484   \n",
       "6                              Gemini Man (2019)          None   $36,516,543   \n",
       "7   Fast & Furious Presents: Hobbs & Shaw (2019)          None  $173,694,635   \n",
       "8                         It: Chapter Two (2019)   $70,000,000  $209,659,518   \n",
       "9                                         Search          None          None   \n",
       "10                                Aladdin (2019)  $182,000,000  $355,562,840   \n",
       "11                                   Cars (2006)   $70,000,000  $244,082,982   \n",
       "12                 Zombieland: Double Tap (2019)   $42,000,000   $26,725,000   \n",
       "13                             Maleficent (2014)  $180,000,000  $241,407,328   \n",
       "14      John Wick: Chapter 3 — Parabellum (2019)   $40,000,000  $171,015,687   \n",
       "15          Once Upon a Time…in Hollywood (2019)   $90,000,000  $139,713,534   \n",
       "16                          Descendants 3 (2019)          None            $0   \n",
       "17   Spider-Man: Into The Spider-Verse 3D (2018)   $90,000,000  $190,173,195   \n",
       "18                           Dark Phoenix (2019)  $200,000,000   $65,845,974   \n",
       "19                           Interstellar (2014)  $165,000,000  $188,017,894   \n",
       "\n",
       "                          4  \n",
       "0              $490,300,000  \n",
       "1              $564,429,585  \n",
       "2                      None  \n",
       "3              $117,000,000  \n",
       "4              $739,684,413  \n",
       "5              $625,500,000  \n",
       "6               $38,979,469  \n",
       "7              $585,651,548  \n",
       "8              $238,294,700  \n",
       "9                      None  \n",
       "10             $682,500,000  \n",
       "11             $217,568,264  \n",
       "12               $5,300,000  \n",
       "13             $517,129,407  \n",
       "14             $151,726,492  \n",
       "15             $226,246,609  \n",
       "16  Est. Domestic DVD Sales  \n",
       "17             $185,069,944  \n",
       "18             $180,510,921  \n",
       "19             $477,252,582  "
      ]
     },
     "execution_count": 42,
     "metadata": {},
     "output_type": "execute_result"
    }
   ],
   "source": [
    "df"
   ]
  },
  {
   "cell_type": "code",
   "execution_count": 47,
   "metadata": {},
   "outputs": [
    {
     "data": {
      "text/plain": [
       "dict"
      ]
     },
     "execution_count": 47,
     "metadata": {},
     "output_type": "execute_result"
    }
   ],
   "source": [
    "type(all_movies[0])"
   ]
  },
  {
   "cell_type": "code",
   "execution_count": 49,
   "metadata": {},
   "outputs": [],
   "source": [
    "df1 = pd.DataFrame(all_movies)"
   ]
  },
  {
   "cell_type": "code",
   "execution_count": 33,
   "metadata": {},
   "outputs": [],
   "source": [
    "from wordcloud import WordCloud"
   ]
  },
  {
   "cell_type": "code",
   "execution_count": 38,
   "metadata": {},
   "outputs": [
    {
     "name": "stdout",
     "output_type": "stream",
     "text": [
      "Collecting multidict\n",
      "\u001b[?25l  Downloading https://files.pythonhosted.org/packages/0e/64/39b167d63e292cc2336d09c4d3577089db82cd7886ed535b6100fc7c7966/multidict-4.5.2-cp37-cp37m-macosx_10_12_intel.macosx_10_12_x86_64.macosx_10_13_intel.macosx_10_13_x86_64.whl (196kB)\n",
      "\u001b[K     |████████████████████████████████| 204kB 6.4MB/s eta 0:00:01\n",
      "\u001b[?25hInstalling collected packages: multidict\n",
      "Successfully installed multidict-4.5.2\n",
      "Note: you may need to restart the kernel to use updated packages.\n"
     ]
    }
   ],
   "source": [
    "pip install multidict"
   ]
  },
  {
   "cell_type": "code",
   "execution_count": 39,
   "metadata": {
    "scrolled": true
   },
   "outputs": [],
   "source": [
    "import multidict as multidict\n",
    "import numpy as np\n",
    "import os\n",
    "import re\n",
    "from PIL import Image\n",
    "from os import path\n",
    "from wordcloud import WordCloud\n",
    "import matplotlib.pyplot as plt"
   ]
  },
  {
   "cell_type": "code",
   "execution_count": 50,
   "metadata": {
    "scrolled": true
   },
   "outputs": [],
   "source": [
    "strings = df1['overview'].str.cat()"
   ]
  },
  {
   "cell_type": "code",
   "execution_count": 54,
   "metadata": {
    "scrolled": true
   },
   "outputs": [],
   "source": [
    "def getFrequencyDictForText(sentence):\n",
    "    fullTermsDict = multidict.MultiDict()\n",
    "    tmpDict = {}\n",
    "    \n",
    "    # making dict for counting frequencies\n",
    "    for text in sentence.split(\" \"):\n",
    "        if re.match(\"a|the|an|the|to|in|for|of|or|by|with|is|on|that|be|where|his|who|has|out|must|him|most|from|up|find|was|which\", text):\n",
    "            continue\n",
    "        val = tmpDict.get(text, 0)\n",
    "        tmpDict[text.lower()] = val + 1\n",
    "    for key in tmpDict:\n",
    "        fullTermsDict.add(key, tmpDict[key])\n",
    "    return fullTermsDict\n",
    "a = getFrequencyDictForText(strings)"
   ]
  },
  {
   "cell_type": "code",
   "execution_count": 60,
   "metadata": {},
   "outputs": [],
   "source": [
    "def makeImage(text):\n",
    "#     mask = np.array(Image.open(\"movies.png\"))\n",
    "\n",
    "    wc = WordCloud(background_color=\"white\", max_words=500)\n",
    "    # generate word cloud\n",
    "    wc.generate_from_frequencies(text)\n",
    "\n",
    "    # show\n",
    "    plt.imshow(wc, interpolation=\"bilinear\")\n",
    "    plt.axis(\"off\")\n",
    "    plt.show()"
   ]
  },
  {
   "cell_type": "code",
   "execution_count": 61,
   "metadata": {},
   "outputs": [
    {
     "data": {
      "image/png": "[encoded data removed]",
      "text/plain": [
       "<Figure size 432x288 with 1 Axes>"
      ]
     },
     "metadata": {
      "needs_background": "light"
     },
     "output_type": "display_data"
    }
   ],
   "source": [
    "makeImage(getFrequencyDictForText(strings))"
   ]
  },
  {
   "cell_type": "code",
   "execution_count": 63,
   "metadata": {},
   "outputs": [],
   "source": [
    "# based on wordcloud generated, the most frequent words were chosen."
   ]
  },
  {
   "cell_type": "code",
   "execution_count": 64,
   "metadata": {},
   "outputs": [],
   "source": [
    "top_words_list = ['life','story','love','help','young','true','man','family','time','will']\n",
    "avg_words_list = ['group','mysterious','friends','save','own','life','help','takes','discovers','make']"
   ]
  },
  {
   "cell_type": "code",
   "execution_count": null,
   "metadata": {},
   "outputs": [],
   "source": []
  },
  {
   "cell_type": "code",
   "execution_count": 69,
   "metadata": {
    "scrolled": true
   },
   "outputs": [],
   "source": [
    "pop_words = []\n",
    "for i in top_words_list:\n",
    "    pop_words.append(df1.loc[df1['overview'].str.contains(i)]['vote_average'])\n",
    "\n",
    "avg_words = []\n",
    "for i in avg_words_list:\n",
    "    avg_words.append(df1.loc[df1['overview'].str.contains(i)]['vote_average'])"
   ]
  },
  {
   "cell_type": "code",
   "execution_count": 71,
   "metadata": {},
   "outputs": [
    {
     "data": {
      "image/png": "[encoded data removed]",
      "text/plain": [
       "<Figure size 720x720 with 9 Axes>"
      ]
     },
     "metadata": {
      "needs_background": "light"
     },
     "output_type": "display_data"
    }
   ],
   "source": [
    "fig, axs = plt.subplots(3, 3, sharex=True, sharey=True, figsize = (10,10))\n",
    "axs[0,0].boxplot(pop_words[0])\n",
    "axs[0,0].set_title('Life')\n",
    "axs[0,1].boxplot(pop_words[1])\n",
    "axs[0,1].set_title('Story')\n",
    "axs[0,2].boxplot(pop_words[2])\n",
    "axs[0,2].set_title('Love')\n",
    "axs[1,0].boxplot(pop_words[3])\n",
    "axs[1,0].set_title('Help')\n",
    "axs[1,1].boxplot(pop_words[4])\n",
    "axs[1,1].set_title('Young')\n",
    "axs[1,2].boxplot(pop_words[5])\n",
    "axs[1,2].set_title('True')\n",
    "axs[2,0].boxplot(pop_words[6])\n",
    "axs[2,0].set_title('Man')\n",
    "axs[2,1].boxplot(pop_words[7])\n",
    "axs[2,1].set_title('Family')\n",
    "axs[2,2].boxplot(pop_words[8])\n",
    "axs[2,2].set_title('Time')\n",
    "\n",
    "plt.show()\n"
   ]
  },
  {
   "cell_type": "code",
   "execution_count": 75,
   "metadata": {},
   "outputs": [
    {
     "data": {
      "image/png": "[encoded data removed]",
      "text/plain": [
       "<Figure size 720x720 with 9 Axes>"
      ]
     },
     "metadata": {
      "needs_background": "light"
     },
     "output_type": "display_data"
    }
   ],
   "source": [
    "fig, axs = plt.subplots(3, 3, sharex=True, sharey=True, figsize = (10,10))\n",
    "axs[0,0].boxplot(avg_words[0])\n",
    "axs[0,0].set_title('Group')\n",
    "axs[0,1].boxplot(avg_words[1])\n",
    "axs[0,1].set_title('Mysterious')\n",
    "axs[0,2].boxplot(avg_words[2])\n",
    "axs[0,2].set_title('Friends')\n",
    "axs[1,0].boxplot(avg_words[3])\n",
    "axs[1,0].set_title('Save')\n",
    "axs[1,1].boxplot(avg_words[4])\n",
    "axs[1,1].set_title('Own')\n",
    "axs[1,2].boxplot(avg_words[5])\n",
    "axs[1,2].set_title('Life')\n",
    "axs[2,0].boxplot(avg_words[6])\n",
    "axs[2,0].set_title('Help')\n",
    "axs[2,1].boxplot(avg_words[7])\n",
    "axs[2,1].set_title('Takes')\n",
    "axs[2,2].boxplot(avg_words[8])\n",
    "axs[2,2].set_title('Discovers')\n",
    "\n",
    "plt.show()"
   ]
  },
  {
   "cell_type": "code",
   "execution_count": 77,
   "metadata": {},
   "outputs": [],
   "source": [
    "import seaborn as sns"
   ]
  },
  {
   "cell_type": "code",
   "execution_count": 78,
   "metadata": {},
   "outputs": [
    {
     "data": {
      "image/png": "[encoded data removed]",
      "text/plain": [
       "<Figure size 1152x432 with 1 Axes>"
      ]
     },
     "metadata": {
      "needs_background": "light"
     },
     "output_type": "display_data"
    }
   ],
   "source": [
    "plt.figure(figsize=(16, 6))\n",
    "x = pop_words[0]\n",
    "y = avg_words[0]\n",
    "a=sns.distplot(x)\n",
    "b=sns.distplot(y)"
   ]
  },
  {
   "cell_type": "code",
   "execution_count": null,
   "metadata": {},
   "outputs": [],
   "source": []
  },
  {
   "cell_type": "code",
   "execution_count": null,
   "metadata": {},
   "outputs": [],
   "source": []
  },
  {
   "cell_type": "code",
   "execution_count": null,
   "metadata": {},
   "outputs": [],
   "source": []
  },
  {
   "cell_type": "code",
   "execution_count": null,
   "metadata": {},
   "outputs": [],
   "source": []
  },
  {
   "cell_type": "code",
   "execution_count": null,
   "metadata": {},
   "outputs": [],
   "source": [
    "listoftuples = []\n",
    "for i in all_movies:\n",
    "    listoftuples.append((i['id'],i['title'],i['vote_average'],(i['vote_count']),i['popularity'],i['original_language'],str(i['genre_ids']),i['overview']))\n",
    "    "
   ]
  },
  {
   "cell_type": "code",
   "execution_count": null,
   "metadata": {},
   "outputs": [],
   "source": []
  },
  {
   "cell_type": "code",
   "execution_count": null,
   "metadata": {},
   "outputs": [],
   "source": []
  },
  {
   "cell_type": "code",
   "execution_count": null,
   "metadata": {},
   "outputs": [],
   "source": [
    "import re\n",
    "import os\n",
    "import csv\n",
    "import time\n",
    "import random\n",
    "import requests\n",
    "import numpy as np\n",
    "import pandas as pd\n",
    "from os import system\n",
    "from math import floor\n",
    "from copy import deepcopy\n",
    "from bs4 import BeautifulSoup\n",
    "from selenium import webdriver\n",
    "from selenium.webdriver.common.by import By\n",
    "from selenium.webdriver.common.keys import Keys\n",
    "from selenium.common.exceptions import TimeoutException\n",
    "from selenium.webdriver.support.ui import WebDriverWait\n",
    "from selenium.webdriver.support import expected_conditions as EC\n"
   ]
  },
  {
   "cell_type": "code",
   "execution_count": null,
   "metadata": {},
   "outputs": [],
   "source": [
    "list_of_titles = []\n",
    "for i in all_movies:\n",
    "    list_of_titles.append(i['title'])\n",
    "\n",
    "list_of_new_names = []\n",
    "for i in list_of_titles:\n",
    "    if i not in list_of_names:\n",
    "        list_of_new_names.append(i)\n",
    "    "
   ]
  },
  {
   "cell_type": "code",
   "execution_count": null,
   "metadata": {},
   "outputs": [],
   "source": [
    "browser = webdriver.Chrome() #browser should be named driver in the future, common coding etiquette\n",
    "browser.get('https://www.the-numbers.com/movie/Scarface#tab=summary')"
   ]
  },
  {
   "cell_type": "code",
   "execution_count": null,
   "metadata": {},
   "outputs": [],
   "source": [
    "financials2 = []\n",
    "\n",
    "\n",
    "for name in list_of_new_names:\n",
    "    searchBar = browser.find_element_by_xpath('//*[@id=\"sidebar\"]/center/form/input')\n",
    "    searchBar.send_keys(name)\n",
    "    searchBar.send_keys(Keys.ENTER)\n",
    "    url = browser.current_url\n",
    "\n",
    "\n",
    "    if \"custom-search\" in url:\n",
    "        try:\n",
    "            if browser.find_element_by_xpath('//center/table/tbody/tr[2]/td[3]/b/a').get_attribute('href'):\n",
    "                link = browser.find_element_by_xpath('//center/table/tbody/tr[2]/td[3]/b/a').get_attribute('href')         \n",
    "                browser.get(link)\n",
    "        except:\n",
    "            pass\n",
    "    \n",
    "    scraped_data = browser.page_source\n",
    "    soup = BeautifulSoup(scraped_data)\n",
    "    tables = soup.find_all('table')\n",
    "\n",
    "    for i in range(len(tables)):\n",
    "            try:\n",
    "                if soup.find(id = 'main').find('h1'):\n",
    "                    movie_name = soup.find(id = 'main').find('h1').text\n",
    "                    print(production_budget)\n",
    "                    break\n",
    "            except:\n",
    "                print('Production budget not found')\n",
    "                production_budget = None\n",
    "                pass\n",
    "    production_budget        \n",
    "\n",
    "    for i in range(len(tables)):\n",
    "            try:\n",
    "                if soup.find_all('table')[i].find('tbody').find('td').find('b').text[:10] == 'Production':\n",
    "                    production_budget = soup.find_all('table')[i].find('tbody').find_all('td')[1].text\n",
    "                    print(production_budget)\n",
    "                    break\n",
    "            except:\n",
    "                print('Production budget not found')\n",
    "                production_budget = None\n",
    "                pass\n",
    "    production_budget        \n",
    "\n",
    "    for i in range(len(tables)):\n",
    "            try:\n",
    "                if soup.find_all(id='movie_finances')[i].find('tbody').find_all('td')[1].text[:12] == 'Domestic Box':\n",
    "                    domestic_box = soup.find_all(id='movie_finances')[i].find('tbody').find_all('td')[2].text\n",
    "                    print(domestic_box)\n",
    "                    break\n",
    "\n",
    "            except:\n",
    "                print('Domestic Box Office not found')\n",
    "                domestic_box = None\n",
    "                pass        \n",
    "    domestic_box\n",
    "\n",
    "    for i in range(len(tables)):\n",
    "            try:\n",
    "                if soup.find_all(id='movie_finances')[i].find('tbody').find_all('td')[1].text[:12] == 'Domestic Box':\n",
    "                    international_box = soup.find_all(id='movie_finances')[i].find('tbody').find_all('td')[5].text\n",
    "                    print(international_box)\n",
    "                    break\n",
    "\n",
    "            except:\n",
    "                print('International Box Office not found')\n",
    "                international_box = None\n",
    "                pass \n",
    "            \n",
    "    international_box\n",
    "    financials2.append((name, movie_name, production_budget, domestic_box, international_box),)  \n",
    "\n",
    "    \n",
    "    with open(\"/Users/johnrick/Desktop/output2.csv\", \"w\") as f:\n",
    "        writer = csv.writer(f)\n",
    "        for name in list_of_new_names:\n",
    "            writer.writerow(name)\n",
    "    \n",
    "# Using a randomized time:   \n",
    "    sequence = [x/10 for x in range(8, 12)]\n",
    "    time.sleep(random.choice(sequence))\n",
    "    \n",
    "    \n",
    "    \n",
    "    \n",
    "     \n",
    "financials2"
   ]
  },
  {
   "cell_type": "code",
   "execution_count": null,
   "metadata": {},
   "outputs": [],
   "source": [
    "df = pd.DataFrame(financials2)\n",
    "df.to_csv(\"/Users/johnrick/Desktop/output2.csv\", index=False)\n"
   ]
  },
  {
   "cell_type": "code",
   "execution_count": null,
   "metadata": {},
   "outputs": [],
   "source": [
    "df = df.fillna(value=0) # is this the best way to treat none values?"
   ]
  },
  {
   "cell_type": "code",
   "execution_count": null,
   "metadata": {},
   "outputs": [],
   "source": []
  },
  {
   "cell_type": "markdown",
   "metadata": {},
   "source": [
    "## To Database\n"
   ]
  },
  {
   "cell_type": "code",
   "execution_count": null,
   "metadata": {},
   "outputs": [],
   "source": [
    "listoftuples = []\n",
    "for i in all_movies:\n",
    "    listoftuples.append((i['id'],i['title'],i['vote_average'],(i['vote_count']),i['popularity'],i['original_language'],str(i['genre_ids']),i['overview']))\n",
    "    "
   ]
  },
  {
   "cell_type": "code",
   "execution_count": null,
   "metadata": {},
   "outputs": [],
   "source": [
    "for i in listoftuples:\n",
    "    try:\n",
    "        stmt = \"INSERT INTO movies1 (id, title, vote_average, vote_count, popularity, original_lang, genre_ids, overview) VALUES (%s, %s, %s, %s, %s, %s, %s, %s)\"\n",
    "        cursor.execute(stmt, (i))\n",
    "        cnx.commit()\n",
    "    except mysql.connector.Error as err:\n",
    "        print(err, i)"
   ]
  },
  {
   "cell_type": "code",
   "execution_count": null,
   "metadata": {},
   "outputs": [],
   "source": []
  },
  {
   "cell_type": "code",
   "execution_count": null,
   "metadata": {},
   "outputs": [],
   "source": [
    "# Data\n",
    "import pandas as pd \n",
    "data = pd.read_csv('output.csv')"
   ]
  },
  {
   "cell_type": "code",
   "execution_count": null,
   "metadata": {},
   "outputs": [],
   "source": [
    "subset = data[['0', '1','2', '3', '4']]\n",
    "tuples = [tuple(x) for x in subset.values]\n",
    "tuples"
   ]
  },
  {
   "cell_type": "code",
   "execution_count": null,
   "metadata": {},
   "outputs": [],
   "source": [
    "for i in tuples:\n",
    "    try:\n",
    "        stmt = \"INSERT INTO finances (search_name, actual_name, budget, domestic_box_office, international_box_office) VALUES(%s,%s,%s,%s,%s)\"\n",
    "        cursor.execute(stmt, (i))\n",
    "        cnx.commit()\n",
    "    except mysql.connector.Error as err:\n",
    "        print(err, i)"
   ]
  },
  {
   "cell_type": "code",
   "execution_count": null,
   "metadata": {},
   "outputs": [],
   "source": []
  },
  {
   "cell_type": "code",
   "execution_count": null,
   "metadata": {},
   "outputs": [],
   "source": []
  },
  {
   "cell_type": "code",
   "execution_count": null,
   "metadata": {},
   "outputs": [],
   "source": []
  },
  {
   "cell_type": "code",
   "execution_count": null,
   "metadata": {},
   "outputs": [],
   "source": []
  }
 ],
 "metadata": {
  "kernelspec": {
   "display_name": "Python 3",
   "language": "python",
   "name": "python3"
  },
  "language_info": {
   "codemirror_mode": {
    "name": "ipython",
    "version": 3
   },
   "file_extension": ".py",
   "mimetype": "text/x-python",
   "name": "python",
   "nbconvert_exporter": "python",
   "pygments_lexer": "ipython3",
   "version": "3.7.3"
  }
 },
 "nbformat": 4,
 "nbformat_minor": 2
}
